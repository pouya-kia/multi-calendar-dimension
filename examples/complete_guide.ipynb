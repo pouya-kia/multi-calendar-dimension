{
  "cells": [
    {
      "cell_type": "markdown",
      "metadata": {},
      "source": [
        "# راهنمای کامل کتابخانه Multi-Calendar Dimension\n",
        "\n",
        "این Notebook راهنمای جامعی برای همه قابلیت‌های کتابخانه `multi-calendar-dimension` است.\n",
        "\n",
        "## فهرست مطالب:\n",
        "1. نصب و راه‌اندازی\n",
        "2. تبدیل تاریخ بین تقویم‌ها\n",
        "3. دریافت نام ماه‌ها\n",
        "4. بررسی تعطیلات رسمی\n",
        "5. دریافت رویدادها\n",
        "6. اطلاعات تاریخ امروز\n",
        "7. تولید Date Dimension\n",
        "8. تولید بازه ماهانه\n",
        "9. مثال‌های پیشرفته\n"
      ]
    },
    {
      "cell_type": "markdown",
      "metadata": {},
      "source": [
        "## 1. نصب و راه‌اندازی\n",
        "\n",
        "برای نصب کتابخانه از PyPI:\n"
      ]
    },
    {
      "cell_type": "code",
      "execution_count": null,
      "metadata": {},
      "outputs": [],
      "source": [
        "# !pip install multi-calendar-dimension\n",
        "\n",
        "# Import basic converters\n",
        "from multi_calendar_dimension import (\n",
        "    jalali_to_gregorian,\n",
        "    gregorian_to_jalali,\n",
        "    jalali_to_hijri,\n",
        "    gregorian_to_hijri,\n",
        "    hijri_to_gregorian,\n",
        "    hijri_to_jalali\n",
        ")\n",
        "\n",
        "print(\"✅ کتابخانه با موفقیت import شد!\")\n"
      ]
    },
    {
      "cell_type": "markdown",
      "metadata": {},
      "source": [
        "## 2. تبدیل تاریخ بین تقویم‌ها\n",
        "\n",
        "### 2.1 شمسی به میلادی (Jalali to Gregorian)\n"
      ]
    },
    {
      "cell_type": "code",
      "execution_count": null,
      "metadata": {},
      "outputs": [],
      "source": [
        "# تبدیل نوروز 1403 به میلادی\n",
        "jalali_year, jalali_month, jalali_day = 1403, 1, 1\n",
        "greg_year, greg_month, greg_day = jalali_to_gregorian(jalali_year, jalali_month, jalali_day)\n",
        "\n",
        "print(f\"شمسی: {jalali_year}/{jalali_month:02d}/{jalali_day:02d}\")\n",
        "print(f\"میلادی: {greg_year}/{greg_month:02d}/{greg_day:02d}\")\n",
        "print(f\"نوروز 1403 = {greg_day} March {greg_year}\")\n"
      ]
    },
    {
      "cell_type": "markdown",
      "metadata": {},
      "source": [
        "### 2.2 میلادی به شمسی (Gregorian to Jalali)\n"
      ]
    },
    {
      "cell_type": "code",
      "execution_count": null,
      "metadata": {},
      "outputs": [],
      "source": [
        "# تبدیل میلادی به شمسی\n",
        "jy, jm, jd = gregorian_to_jalali(2024, 3, 20)\n",
        "print(f\"میلادی: 2024/03/20\")\n",
        "print(f\"شمسی: {jy}/{jm:02d}/{jd:02d}\")\n",
        "print(f\"20 March 2024 = {jd} فروردین {jy}\")\n"
      ]
    },
    {
      "cell_type": "markdown",
      "metadata": {},
      "source": [
        "### 2.3 میلادی به هجری (Gregorian to Hijri)\n"
      ]
    },
    {
      "cell_type": "code",
      "execution_count": null,
      "metadata": {},
      "outputs": [],
      "source": [
        "# تبدیل میلادی به هجری (با الگوریتم Umm al-Qura)\n",
        "from multi_calendar_dimension import get_hijri_month_name\n",
        "\n",
        "hy, hm, hd = gregorian_to_hijri(2023, 7, 19)\n",
        "month_name_en = get_hijri_month_name(hm, english=True)\n",
        "month_name_fa = get_hijri_month_name(hm, english=False)\n",
        "\n",
        "print(f\"میلادی: 2023/07/19\")\n",
        "print(f\"هجری (عددی): {hd}/{hm}/{hy}\")\n",
        "print(f\"هجری (انگلیسی): {hd} {month_name_en} {hy}\")\n",
        "print(f\"هجری (فارسی): {hd} {month_name_fa} {hy}\")\n"
      ]
    },
    {
      "cell_type": "markdown",
      "metadata": {},
      "source": [
        "### 2.4 شمسی به هجری و برعکس\n"
      ]
    },
    {
      "cell_type": "code",
      "execution_count": null,
      "metadata": {},
      "outputs": [],
      "source": [
        "# شمسی به هجری\n",
        "hy, hm, hd = jalali_to_hijri(1403, 1, 1)\n",
        "print(f\"1403/01/01 (نوروز) = {hd}/{hm}/{hy} هجری\")\n",
        "print(f\"ماه هجری: {get_hijri_month_name(hm, True)}\")\n",
        "\n",
        "print(\"\\n\" + \"-\"*50 + \"\\n\")\n",
        "\n",
        "# هجری به شمسی\n",
        "jy, jm, jd = hijri_to_jalali(1445, 1, 1)\n",
        "print(f\"1445/01/01 (محرم) = {jd}/{jm}/{jy} شمسی\")\n"
      ]
    },
    {
      "cell_type": "markdown",
      "metadata": {},
      "source": [
        "## 3. نام ماه‌های هجری\n",
        "\n",
        "دریافت نام ماه‌های قمری به فارسی و انگلیسی:\n"
      ]
    },
    {
      "cell_type": "code",
      "execution_count": null,
      "metadata": {},
      "outputs": [],
      "source": [
        "from multi_calendar_dimension import HIJRI_MONTH_NAMES, HIJRI_MONTH_NAMES_EN\n",
        "\n",
        "print(\"لیست کامل ماه‌های هجری:\\n\")\n",
        "print(f\"{'شماره':<8} {'نام فارسی':<20} {'نام انگلیسی':<20}\")\n",
        "print(\"=\"*50)\n",
        "\n",
        "for month_num in range(1, 13):\n",
        "    fa_name = HIJRI_MONTH_NAMES[month_num]\n",
        "    en_name = HIJRI_MONTH_NAMES_EN[month_num]\n",
        "    print(f\"{month_num:<8} {fa_name:<20} {en_name:<20}\")\n"
      ]
    },
    {
      "cell_type": "markdown",
      "metadata": {},
      "source": [
        "## 4. بررسی تعطیلات رسمی ایران\n",
        "\n",
        "شامل تعطیلات شمسی (ثابت) و هجری (متغیر):\n"
      ]
    },
    {
      "cell_type": "code",
      "execution_count": null,
      "metadata": {},
      "outputs": [],
      "source": [
        "from multi_calendar_dimension import is_iranian_holiday\n",
        "\n",
        "# بررسی چند تاریخ\n",
        "test_dates = [\n",
        "    (1403, 1, 1, \"نوروز\"),\n",
        "    (1403, 4, 26, \"عاشورا 1446\"),\n",
        "    (1403, 11, 22, \"22 بهمن\"),\n",
        "    (1403, 5, 15, \"روز عادی\"),\n",
        "]\n",
        "\n",
        "print(\"بررسی تعطیلات:\\n\")\n",
        "for jy, jm, jd, desc in test_dates:\n",
        "    result = is_iranian_holiday(jy, jm, jd)\n",
        "    status = \"✅ تعطیل\" if result['is_holiday'] else \"❌ کاری\"\n",
        "    holiday_type = f\"({result['holiday_type']})\" if result['is_holiday'] else \"\"\n",
        "    \n",
        "    print(f\"{jy}/{jm:02d}/{jd:02d} - {desc:<20} {status} {holiday_type}\")\n"
      ]
    },
    {
      "cell_type": "markdown",
      "metadata": {},
      "source": [
        "## 5. دریافت رویدادها\n",
        "\n",
        "### 5.1 رویدادهای فارسی\n"
      ]
    },
    {
      "cell_type": "code",
      "execution_count": null,
      "metadata": {},
      "outputs": [],
      "source": [
        "from multi_calendar_dimension import persian_events, persian_events_en\n",
        "\n",
        "# رویداد نوروز\n",
        "event_fa = persian_events.get((1, 1))\n",
        "event_en = persian_events_en.get((1, 1))\n",
        "\n",
        "print(\"رویداد 1 فروردین:\")\n",
        "print(f\"  فارسی: {event_fa}\")\n",
        "print(f\"  English: {event_en}\")\n",
        "\n",
        "print(\"\\nچند رویداد دیگر:\")\n",
        "sample_dates = [(1, 12), (3, 14), (11, 22)]\n",
        "for m, d in sample_dates:\n",
        "    if (m, d) in persian_events:\n",
        "        print(f\"  {m}/{d}: {persian_events_en[(m, d)]}\")\n"
      ]
    },
    {
      "cell_type": "markdown",
      "metadata": {},
      "source": [
        "### 5.2 رویدادهای هجری\n"
      ]
    },
    {
      "cell_type": "code",
      "execution_count": null,
      "metadata": {},
      "outputs": [],
      "source": [
        "from multi_calendar_dimension import hijri_events, hijri_events_en\n",
        "\n",
        "# رویدادهای مهم هجری\n",
        "important_hijri = [(1, 10), (2, 20), (9, 21), (10, 1)]\n",
        "\n",
        "print(\"رویدادهای مهم هجری:\\n\")\n",
        "for m, d in important_hijri:\n",
        "    if (m, d) in hijri_events_en:\n",
        "        month_name = get_hijri_month_name(m, True)\n",
        "        event = hijri_events_en[(m, d)]\n",
        "        print(f\"{d} {month_name}: {event}\")\n"
      ]
    },
    {
      "cell_type": "markdown",
      "metadata": {},
      "source": [
        "## 6. اطلاعات جامع یک تاریخ شمسی\n",
        "\n",
        "دریافت همه اطلاعات یک تاریخ (شمسی، میلادی، هجری، رویدادها، تعطیلات):\n"
      ]
    },
    {
      "cell_type": "code",
      "execution_count": null,
      "metadata": {},
      "outputs": [],
      "source": [
        "from multi_calendar_dimension import get_all_holidays_for_jalali_date\n",
        "\n",
        "# دریافت اطلاعات کامل برای عاشورا\n",
        "info = get_all_holidays_for_jalali_date(1403, 4, 26)\n",
        "\n",
        "print(\"اطلاعات کامل تاریخ 1403/04/26:\\n\")\n",
        "print(f\"📅 تاریخ شمسی: {info['jalali_date']}\")\n",
        "print(f\"📅 تاریخ میلادی: {info['gregorian_date']}\")\n",
        "print(f\"📅 تاریخ هجری: {info['hijri_date']}\")\n",
        "print(f\"\\n🎉 تعطیل رسمی: {'بله' if info['is_official_holiday'] else 'خیر'}\")\n",
        "print(f\"   - تعطیل شمسی: {'بله' if info['is_persian_holiday'] else 'خیر'}\")\n",
        "print(f\"   - تعطیل هجری: {'بله' if info['is_hijri_holiday'] else 'خیر'}\")\n",
        "\n",
        "if info['persian_event']:\n",
        "    print(f\"\\n📌 رویداد شمسی: {info['persian_event']}\")\n",
        "if info['hijri_event']:\n",
        "    print(f\"📌 رویداد هجری: {info['hijri_event']}\")\n"
      ]
    },
    {
      "cell_type": "markdown",
      "metadata": {},
      "source": [
        "## 7. تولید جدول Date Dimension\n",
        "\n",
        "برای استفاده در Data Warehouse و BI:\n"
      ]
    },
    {
      "cell_type": "code",
      "execution_count": null,
      "metadata": {},
      "outputs": [],
      "source": [
        "# نیاز به pandas دارد\n",
        "try:\n",
        "    from multi_calendar_dimension import DateDimensionGenerator\n",
        "    \n",
        "    # تولید جدول Date Dimension برای یک سال\n",
        "    generator = DateDimensionGenerator()\n",
        "    df = generator.generate(start_year=1403, end_year=1403)\n",
        "    \n",
        "    print(f\"✅ جدول Date Dimension تولید شد!\")\n",
        "    print(f\"📊 تعداد سطرها: {len(df)}\")\n",
        "    print(f\"📊 تعداد ستون‌ها: {len(df.columns)}\")\n",
        "    print(f\"\\nستون‌های موجود:\")\n",
        "    print(\", \".join(df.columns[:10]), \"...\")\n",
        "    \n",
        "    # نمایش چند سطر اول\n",
        "    print(f\"\\n5 سطر اول:\")\n",
        "    print(df[['shamsi_date', 'miladi_date', 'month_title', 'jalali_event']].head())\n",
        "    \n",
        "    # ذخیره در Excel\n",
        "    # generator.to_excel(df, \"date_dimension_1403.xlsx\")\n",
        "    # print(\"\\n💾 فایل Excel ذخیره شد: date_dimension_1403.xlsx\")\n",
        "    \n",
        "except ImportError:\n",
        "    print(\"⚠️ برای استفاده از DateDimensionGenerator باید pandas نصب باشد\")\n",
        "    print(\"نصب: pip install pandas openpyxl\")\n"
      ]
    },
    {
      "cell_type": "markdown",
      "metadata": {},
      "source": [
        "## 8. تولید بازه ماهانه\n",
        "\n",
        "تولید لیست تمام روزهای یک ماه:\n"
      ]
    },
    {
      "cell_type": "code",
      "execution_count": null,
      "metadata": {},
      "outputs": [],
      "source": [
        "try:\n",
        "    from multi_calendar_dimension import DateRangeGenerator\n",
        "    \n",
        "    # تولید بازه فروردین 1403\n",
        "    generator = DateRangeGenerator()\n",
        "    dates = generator.generate_jalali_month(1403, 1)\n",
        "    \n",
        "    print(f\"✅ بازه فروردین 1403 تولید شد!\")\n",
        "    print(f\"📊 تعداد روزها: {len(dates)}\")\n",
        "    print(f\"\\n5 روز اول فروردین:\")\n",
        "    for i, date_info in enumerate(dates[:5], 1):\n",
        "        print(f\"  {i}. شمسی: {date_info['jalali_date']}, میلادی: {date_info['gregorian_date']}\")\n",
        "    \n",
        "except ImportError:\n",
        "    print(\"⚠️ برای استفاده از DateRangeGenerator باید pandas نصب باشد\")\n"
      ]
    },
    {
      "cell_type": "markdown",
      "metadata": {},
      "source": [
        "## 9. مثال‌های کاربردی\n",
        "\n",
        "### مثال 1: پیدا کردن تمام تعطیلات یک ماه\n"
      ]
    },
    {
      "cell_type": "code",
      "execution_count": null,
      "metadata": {},
      "outputs": [],
      "source": [
        "# پیدا کردن تمام تعطیلات فروردین 1403\n",
        "year, month = 1403, 1\n",
        "\n",
        "print(f\"تعطیلات رسمی {month} / {year}:\\n\")\n",
        "\n",
        "for day in range(1, 32):  # فروردین 31 روزه\n",
        "    result = is_iranian_holiday(year, month, day)\n",
        "    if result['is_holiday']:\n",
        "        print(f\"  {year}/{month:02d}/{day:02d} - تعطیل {result['holiday_type']}\")\n"
      ]
    },
    {
      "cell_type": "markdown",
      "metadata": {},
      "source": [
        "### مثال 2: تبدیل چند تاریخ به صورت دسته‌ای\n"
      ]
    },
    {
      "cell_type": "code",
      "execution_count": null,
      "metadata": {},
      "outputs": [],
      "source": [
        "# تبدیل چند تاریخ میلادی به هجری با نام ماه\n",
        "gregorian_dates = [\n",
        "    (2023, 7, 19, \"Islamic New Year\"),\n",
        "    (2024, 3, 11, \"Ramadan Start\"),\n",
        "    (2024, 4, 10, \"Eid al-Fitr\"),\n",
        "    (2024, 6, 17, \"Eid al-Adha\"),\n",
        "]\n",
        "\n",
        "print(\"تبدیل دسته‌ای میلادی به هجری:\\n\")\n",
        "for gy, gm, gd, description in gregorian_dates:\n",
        "    hy, hm, hd = gregorian_to_hijri(gy, gm, gd)\n",
        "    month_name = get_hijri_month_name(hm, True)\n",
        "    \n",
        "    print(f\"{description}:\")\n",
        "    print(f\"  {gy}-{gm:02d}-{gd:02d} → {hd} {month_name} {hy}\")\n",
        "    print()\n"
      ]
    },
    {
      "cell_type": "markdown",
      "metadata": {},
      "source": [
        "### مثال 3: بررسی سال کبیسه\n"
      ]
    },
    {
      "cell_type": "code",
      "execution_count": null,
      "metadata": {},
      "outputs": [],
      "source": [
        "from multi_calendar_dimension import is_leap_year_persian, is_hijri_leap\n",
        "\n",
        "# بررسی سال‌های کبیسه شمسی\n",
        "print(\"سال‌های کبیسه شمسی:\")\n",
        "for year in range(1403, 1408):\n",
        "    leap = \"کبیسه ✅\" if is_leap_year_persian(year) else \"عادی\"\n",
        "    print(f\"  {year}: {leap}\")\n",
        "\n",
        "print(\"\\nسال‌های کبیسه هجری:\")\n",
        "for year in range(1445, 1450):\n",
        "    leap = \"کبیسه ✅\" if is_hijri_leap(year) else \"عادی\"\n",
        "    print(f\"  {year}: {leap}\")\n"
      ]
    },
    {
      "cell_type": "markdown",
      "metadata": {},
      "source": [
        "### مثال 4: تقویم یک ماه با تعطیلات\n"
      ]
    },
    {
      "cell_type": "code",
      "execution_count": null,
      "metadata": {},
      "outputs": [],
      "source": [
        "# نمایش تقویم فروردین 1403 با تعطیلات\n",
        "print(\"تقویم فروردین 1403 (با علامت‌گذاری تعطیلات):\\n\")\n",
        "\n",
        "for day in range(1, 32):\n",
        "    result = is_iranian_holiday(1403, 1, day)\n",
        "    marker = \"🔴\" if result['is_holiday'] else \"⚪\"\n",
        "    holiday_info = f\" ({result['holiday_type']})\" if result['is_holiday'] else \"\"\n",
        "    \n",
        "    # دریافت رویداد اگر وجود دارد\n",
        "    event = persian_events.get((1, day), \"\")\n",
        "    event_short = event[:30] + \"...\" if len(event) > 30 else event\n",
        "    \n",
        "    print(f\"{marker} {1403}/{1:02d}/{day:02d}  {event_short}{holiday_info}\")\n"
      ]
    },
    {
      "cell_type": "markdown",
      "metadata": {},
      "source": [
        "### مثال 5: کار با DataFrame (pandas)\n"
      ]
    },
    {
      "cell_type": "code",
      "execution_count": null,
      "metadata": {},
      "outputs": [],
      "source": [
        "try:\n",
        "    import pandas as pd\n",
        "    \n",
        "    # تبدیل لیست تاریخ‌های میلادی به DataFrame\n",
        "    gregorian_dates = [\n",
        "        \"2024-03-20\",\n",
        "        \"2024-07-19\",\n",
        "        \"2024-12-25\",\n",
        "    ]\n",
        "    \n",
        "    # ایجاد DataFrame\n",
        "    data = []\n",
        "    for date_str in gregorian_dates:\n",
        "        gy, gm, gd = map(int, date_str.split('-'))\n",
        "        jy, jm, jd = gregorian_to_jalali(gy, gm, gd)\n",
        "        hy, hm, hdd = gregorian_to_hijri(gy, gm, gd)\n",
        "        \n",
        "        data.append({\n",
        "            'Gregorian': date_str,\n",
        "            'Jalali': f'{jy}/{jm:02d}/{jd:02d}',\n",
        "            'Hijri': f'{hy}/{hm:02d}/{hdd:02d}',\n",
        "            'Hijri_Month': get_hijri_month_name(hm, True)\n",
        "        })\n",
        "    \n",
        "    df = pd.DataFrame(data)\n",
        "    print(\"📊 DataFrame با تاریخ‌های تبدیل شده:\\n\")\n",
        "    print(df.to_string(index=False))\n",
        "    \n",
        "except ImportError:\n",
        "    print(\"⚠️ pandas نصب نیست\")\n"
      ]
    },
    {
      "cell_type": "markdown",
      "metadata": {},
      "source": [
        "### مثال 6: محاسبه فاصله بین دو تاریخ\n"
      ]
    },
    {
      "cell_type": "code",
      "execution_count": null,
      "metadata": {},
      "outputs": [],
      "source": [
        "from datetime import datetime\n",
        "\n",
        "# تبدیل تاریخ شمسی به datetime\n",
        "date1_jalali = (1403, 1, 1)\n",
        "date2_jalali = (1403, 12, 29)\n",
        "\n",
        "# تبدیل به میلادی\n",
        "date1_greg = jalali_to_gregorian(*date1_jalali)\n",
        "date2_greg = jalali_to_gregorian(*date2_jalali)\n",
        "\n",
        "# محاسبه فاصله\n",
        "dt1 = datetime(*date1_greg)\n",
        "dt2 = datetime(*date2_greg)\n",
        "diff = (dt2 - dt1).days\n",
        "\n",
        "print(f\"فاصله بین {date1_jalali} و {date2_jalali}:\")\n",
        "print(f\"  {diff} روز\")\n",
        "print(f\"  {diff / 30:.1f} ماه تقریبی\")\n",
        "print(f\"  {diff / 365:.2f} سال تقریبی\")\n"
      ]
    },
    {
      "cell_type": "markdown",
      "metadata": {},
      "source": [
        "### مثال 7: تبدیل تاریخ امروز به همه تقویم‌ها\n"
      ]
    },
    {
      "cell_type": "code",
      "execution_count": null,
      "metadata": {},
      "outputs": [],
      "source": [
        "# تاریخ امروز\n",
        "today = datetime.now()\n",
        "gy, gm, gd = today.year, today.month, today.day\n",
        "\n",
        "# تبدیل به شمسی\n",
        "jy, jm, jd = gregorian_to_jalali(gy, gm, gd)\n",
        "\n",
        "# تبدیل به هجری\n",
        "hy, hm, hdd = gregorian_to_hijri(gy, gm, gd)\n",
        "hijri_month_name = get_hijri_month_name(hm, True)\n",
        "\n",
        "# بررسی تعطیل\n",
        "holiday_info = is_iranian_holiday(jy, jm, jd)\n",
        "\n",
        "print(\"📅 امروز:\\n\")\n",
        "print(f\"میلادی: {gy}/{gm:02d}/{gd:02d}\")\n",
        "print(f\"شمسی: {jy}/{jm:02d}/{jd:02d}\")\n",
        "print(f\"هجری: {hdd} {hijri_month_name} {hy}\")\n",
        "print(f\"\\nتعطیل: {'بله ✅' if holiday_info['is_holiday'] else 'خیر ❌'}\")\n"
      ]
    },
    {
      "cell_type": "markdown",
      "metadata": {},
      "source": [
        "### مثال 8: یافتن رویدادهای مهم یک سال\n"
      ]
    },
    {
      "cell_type": "code",
      "execution_count": null,
      "metadata": {},
      "outputs": [],
      "source": [
        "# یافتن همه تعطیلات رسمی سال 1403\n",
        "from multi_calendar_dimension import persian_holidays, hijri_official_holidays\n",
        "\n",
        "print(\"تعطیلات رسمی سال 1403:\\n\")\n",
        "\n",
        "# تعطیلات شمسی (ثابت)\n",
        "print(\"1️⃣ تعطیلات شمسی (ثابت):\")\n",
        "for (m, d), value in sorted(persian_holidays.items()):\n",
        "    event = persian_events.get((m, d), \"\")\n",
        "    print(f\"  {m:02d}/{d:02d} - {event[:40]}\")\n",
        "\n",
        "# تعطیلات هجری (متغیر - باید برای هر سال محاسبه شوند)\n",
        "print(\"\\n2️⃣ تعطیلات هجری (برای سال 1403 شمسی):\")\n",
        "print(\"  نیاز به محاسبه تبدیل برای هر روز...\")\n",
        "print(\"  (در Date Dimension کامل محاسبه می‌شود)\")\n"
      ]
    },
    {
      "cell_type": "markdown",
      "metadata": {},
      "source": [
        "## 10. خلاصه و نکات مهم\n",
        "\n",
        "### تمام قابلیت‌های کتابخانه:\n"
      ]
    },
    {
      "cell_type": "code",
      "execution_count": null,
      "metadata": {},
      "outputs": [],
      "source": [
        "print(\"📚 کتابخانه Multi-Calendar Dimension\\n\")\n",
        "print(\"=\"*60)\n",
        "\n",
        "print(\"\\n✅ تبدیل تاریخ:\")\n",
        "print(\"  • jalali_to_gregorian()\")\n",
        "print(\"  • gregorian_to_jalali()\")\n",
        "print(\"  • jalali_to_hijri()\")\n",
        "print(\"  • gregorian_to_hijri()\")\n",
        "print(\"  • hijri_to_gregorian()\")\n",
        "print(\"  • hijri_to_jalali()\")\n",
        "\n",
        "print(\"\\n✅ نام ماه‌ها:\")\n",
        "print(\"  • get_hijri_month_name()\")\n",
        "print(\"  • HIJRI_MONTH_NAMES (dictionary)\")\n",
        "print(\"  • HIJRI_MONTH_NAMES_EN (dictionary)\")\n",
        "\n",
        "print(\"\\n✅ تعطیلات و رویدادها:\")\n",
        "print(\"  • is_iranian_holiday()\")\n",
        "print(\"  • get_all_holidays_for_jalali_date()\")\n",
        "print(\"  • persian_events (166 رویداد)\")\n",
        "print(\"  • persian_events_en (166 رویداد)\")\n",
        "print(\"  • hijri_events (رویدادهای قمری)\")\n",
        "print(\"  • gregorian_events (رویدادهای میلادی)\")\n",
        "\n",
        "print(\"\\n✅ سال کبیسه:\")\n",
        "print(\"  • is_leap_year_persian()\")\n",
        "print(\"  • is_hijri_leap()\")\n",
        "\n",
        "print(\"\\n✅ تولید جدول (نیاز به pandas):\")\n",
        "print(\"  • DateDimensionGenerator\")\n",
        "print(\"  • DateRangeGenerator\")\n",
        "\n",
        "print(\"\\n✅ اطلاعات امروز:\")\n",
        "print(\"  • CurrentDate\")\n",
        "\n",
        "print(\"\\n\"+\"=\"*60)\n",
        "print(\"🔗 لینک‌ها:\")\n",
        "print(\"  PyPI: https://pypi.org/project/multi-calendar-dimension/\")\n",
        "print(\"  GitHub: https://github.com/pouya-kia/multi-calendar-dimension\")\n",
        "print(\"  نویسنده: Pouya Kia (kiaa.pouya@gmail.com)\")\n"
      ]
    }
  ],
  "metadata": {
    "language_info": {
      "name": "python"
    }
  },
  "nbformat": 4,
  "nbformat_minor": 2
}
