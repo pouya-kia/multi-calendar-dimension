{
  "cells": [
    {
      "cell_type": "markdown",
      "metadata": {},
      "source": [
        "# راهنمای کامل کتابخانه Multi-Calendar Dimension\n",
        "\n",
        "این Notebook راهنمای جامعی برای همه قابلیت‌های کتابخانه `multi-calendar-dimension` است.\n",
        "\n",
        "## فهرست مطالب:\n",
        "1. نصب و راه‌اندازی\n",
        "2. تبدیل تاریخ بین تقویم‌ها\n",
        "3. دریافت نام ماه‌ها\n",
        "4. بررسی تعطیلات رسمی\n",
        "5. دریافت رویدادها\n",
        "6. اطلاعات تاریخ امروز\n",
        "7. تولید Date Dimension\n",
        "8. تولید بازه ماهانه\n",
        "9. مثال‌های پیشرفته\n"
      ]
    },
    {
      "cell_type": "markdown",
      "metadata": {},
      "source": [
        "## 1. نصب و راه‌اندازی\n",
        "\n",
        "برای نصب کتابخانه از PyPI:\n"
      ]
    },
    {
      "cell_type": "code",
      "execution_count": 1,
      "metadata": {},
      "outputs": [
        {
          "name": "stdout",
          "output_type": "stream",
          "text": [
            "✅ کتابخانه با موفقیت import شد!\n"
          ]
        }
      ],
      "source": [
        "# !pip install multi-calendar-dimension\n",
        "import pandas as pd\n",
        "pd.set_option('display.max_columns', None)\n",
        "pd.set_option('display.width', None)\n",
        "pd.set_option('display.max_rows', None)\n",
        "# Import basic converters\n",
        "from multi_calendar_dimension import (\n",
        "    jalali_to_gregorian,\n",
        "    gregorian_to_jalali,\n",
        "    jalali_to_hijri,\n",
        "    gregorian_to_hijri,\n",
        "    hijri_to_gregorian,\n",
        "    hijri_to_jalali\n",
        ")\n",
        "\n",
        "print(\"✅ کتابخانه با موفقیت import شد!\")\n"
      ]
    },
    {
      "cell_type": "markdown",
      "metadata": {},
      "source": [
        "## 2. تبدیل تاریخ بین تقویم‌ها\n",
        "\n",
        "### 2.1 شمسی به میلادی (Jalali to Gregorian)\n"
      ]
    },
    {
      "cell_type": "code",
      "execution_count": 2,
      "metadata": {},
      "outputs": [
        {
          "name": "stdout",
          "output_type": "stream",
          "text": [
            "شمسی: 1403/01/01\n",
            "میلادی: 2024/03/20\n",
            "نوروز 1403 = 20 March 2024\n"
          ]
        }
      ],
      "source": [
        "# تبدیل نوروز 1403 به میلادی\n",
        "jalali_year, jalali_month, jalali_day = 1403, 1, 1\n",
        "greg_year, greg_month, greg_day = jalali_to_gregorian(jalali_year, jalali_month, jalali_day)\n",
        "\n",
        "print(f\"شمسی: {jalali_year}/{jalali_month:02d}/{jalali_day:02d}\")\n",
        "print(f\"میلادی: {greg_year}/{greg_month:02d}/{greg_day:02d}\")\n",
        "print(f\"نوروز 1403 = {greg_day} March {greg_year}\")\n"
      ]
    },
    {
      "cell_type": "markdown",
      "metadata": {},
      "source": [
        "### 2.2 میلادی به شمسی (Gregorian to Jalali)\n"
      ]
    },
    {
      "cell_type": "code",
      "execution_count": 3,
      "metadata": {},
      "outputs": [
        {
          "name": "stdout",
          "output_type": "stream",
          "text": [
            "میلادی: 2024/03/20\n",
            "شمسی: 1403/01/01\n",
            "20 March 2024 = 1 فروردین 1403\n"
          ]
        }
      ],
      "source": [
        "# تبدیل میلادی به شمسی\n",
        "jy, jm, jd = gregorian_to_jalali(2024, 3, 20)\n",
        "print(f\"میلادی: 2024/03/20\")\n",
        "print(f\"شمسی: {jy}/{jm:02d}/{jd:02d}\")\n",
        "print(f\"20 March 2024 = {jd} فروردین {jy}\")\n"
      ]
    },
    {
      "cell_type": "markdown",
      "metadata": {},
      "source": [
        "### 2.3 میلادی به هجری (Gregorian to Hijri)\n"
      ]
    },
    {
      "cell_type": "code",
      "execution_count": 4,
      "metadata": {},
      "outputs": [
        {
          "name": "stdout",
          "output_type": "stream",
          "text": [
            "میلادی: 2023/07/19\n",
            "هجری (عددی): 1/1/1445\n",
            "هجری (انگلیسی): 1 Muharram 1445\n",
            "هجری (فارسی): 1 محرم 1445\n"
          ]
        }
      ],
      "source": [
        "# تبدیل میلادی به هجری (با الگوریتم Umm al-Qura)\n",
        "from multi_calendar_dimension import get_hijri_month_name\n",
        "\n",
        "hy, hm, hd = gregorian_to_hijri(2023, 7, 19)\n",
        "month_name_en = get_hijri_month_name(hm, english=True)\n",
        "month_name_fa = get_hijri_month_name(hm, english=False)\n",
        "\n",
        "print(f\"میلادی: 2023/07/19\")\n",
        "print(f\"هجری (عددی): {hd}/{hm}/{hy}\")\n",
        "print(f\"هجری (انگلیسی): {hd} {month_name_en} {hy}\")\n",
        "print(f\"هجری (فارسی): {hd} {month_name_fa} {hy}\")\n"
      ]
    },
    {
      "cell_type": "markdown",
      "metadata": {},
      "source": [
        "### 2.4 شمسی به هجری و برعکس\n"
      ]
    },
    {
      "cell_type": "code",
      "execution_count": 5,
      "metadata": {},
      "outputs": [
        {
          "name": "stdout",
          "output_type": "stream",
          "text": [
            "1403/01/01 (نوروز) = 9/9/1442 هجری\n",
            "ماه هجری: Ramadan\n",
            "\n",
            "--------------------------------------------------\n",
            "\n",
            "1445/01/01 (محرم) = 28/4/1402 شمسی\n"
          ]
        }
      ],
      "source": [
        "# شمسی به هجری\n",
        "hy, hm, hd = jalali_to_hijri(1400, 2, 1)\n",
        "print(f\"1403/01/01 (نوروز) = {hd}/{hm}/{hy} هجری\")\n",
        "print(f\"ماه هجری: {get_hijri_month_name(hm, True)}\")\n",
        "\n",
        "print(\"\\n\" + \"-\"*50 + \"\\n\")\n",
        "\n",
        "# هجری به شمسی\n",
        "jy, jm, jd = hijri_to_jalali(1445, 1, 1)\n",
        "print(f\"1445/01/01 (محرم) = {jd}/{jm}/{jy} شمسی\")\n"
      ]
    },
    {
      "cell_type": "markdown",
      "metadata": {},
      "source": [
        "## 3. نام ماه‌های هجری\n",
        "\n",
        "دریافت نام ماه‌های قمری به فارسی و انگلیسی:\n"
      ]
    },
    {
      "cell_type": "code",
      "execution_count": 6,
      "metadata": {},
      "outputs": [
        {
          "name": "stdout",
          "output_type": "stream",
          "text": [
            "لیست کامل ماه‌های هجری:\n",
            "\n",
            "شماره    نام فارسی            نام انگلیسی         \n",
            "==================================================\n",
            "1        محرم                 Muharram            \n",
            "2        صفر                  Safar               \n",
            "3        ربیع‌الاول           Rabi' al-Awwal      \n",
            "4        ربیع‌الثانی          Rabi' al-Thani      \n",
            "5        جمادی‌الاول          Jumada al-Ula       \n",
            "6        جمادی‌الثانی         Jumada al-Thani     \n",
            "7        رجب                  Rajab               \n",
            "8        شعبان                Sha'ban             \n",
            "9        رمضان                Ramadan             \n",
            "10       شوال                 Shawwal             \n",
            "11       ذی‌قعده              Dhu al-Qa'dah       \n",
            "12       ذی‌حجه               Dhu al-Hijjah       \n"
          ]
        }
      ],
      "source": [
        "from multi_calendar_dimension import HIJRI_MONTH_NAMES, HIJRI_MONTH_NAMES_EN\n",
        "\n",
        "print(\"لیست کامل ماه‌های هجری:\\n\")\n",
        "print(f\"{'شماره':<8} {'نام فارسی':<20} {'نام انگلیسی':<20}\")\n",
        "print(\"=\"*50)\n",
        "\n",
        "for month_num in range(1, 13):\n",
        "    fa_name = HIJRI_MONTH_NAMES[month_num]\n",
        "    en_name = HIJRI_MONTH_NAMES_EN[month_num]\n",
        "    print(f\"{month_num:<8} {fa_name:<20} {en_name:<20}\")\n"
      ]
    },
    {
      "cell_type": "markdown",
      "metadata": {},
      "source": [
        "## 4. بررسی تعطیلات رسمی ایران\n",
        "\n",
        "شامل تعطیلات شمسی (ثابت) و هجری (متغیر):\n"
      ]
    },
    {
      "cell_type": "code",
      "execution_count": 7,
      "metadata": {},
      "outputs": [
        {
          "name": "stdout",
          "output_type": "stream",
          "text": [
            "بررسی تعطیلات:\n",
            "\n",
            "1403/01/01 - نوروز                ✅ تعطیل (persian)\n",
            "1403/04/26 - عاشورا 1446          ✅ تعطیل (hijri)\n",
            "1403/11/22 - 22 بهمن              ✅ تعطیل (persian)\n",
            "1403/05/15 - روز عادی             ❌ کاری \n"
          ]
        }
      ],
      "source": [
        "from multi_calendar_dimension import is_iranian_holiday\n",
        "\n",
        "# بررسی چند تاریخ\n",
        "test_dates = [\n",
        "    (1403, 1, 1, \"نوروز\"),\n",
        "    (1403, 4, 26, \"عاشورا 1446\"),\n",
        "    (1403, 11, 22, \"22 بهمن\"),\n",
        "    (1403, 5, 15, \"روز عادی\"),\n",
        "]\n",
        "\n",
        "print(\"بررسی تعطیلات:\\n\")\n",
        "for jy, jm, jd, desc in test_dates:\n",
        "    result = is_iranian_holiday(jy, jm, jd)\n",
        "    status = \"✅ تعطیل\" if result['is_holiday'] else \"❌ کاری\"\n",
        "    holiday_type = f\"({result['holiday_type']})\" if result['is_holiday'] else \"\"\n",
        "    \n",
        "    print(f\"{jy}/{jm:02d}/{jd:02d} - {desc:<20} {status} {holiday_type}\")\n"
      ]
    },
    {
      "cell_type": "markdown",
      "metadata": {},
      "source": [
        "## 5. دریافت رویدادها\n",
        "\n",
        "### 5.1 رویدادهای فارسی\n"
      ]
    },
    {
      "cell_type": "code",
      "execution_count": 8,
      "metadata": {},
      "outputs": [
        {
          "name": "stdout",
          "output_type": "stream",
          "text": [
            "رویداد 1 فروردین:\n",
            "  فارسی: عید نوروز\n",
            "  English: Nowruz (Persian New Year)\n",
            "\n",
            "چند رویداد دیگر:\n",
            "  1/12: Islamic Republic Day of Iran\n",
            "  3/14: Demise of Imam Khomeini (R.A.), Great Leader of the Revolution and Founder of Islamic Republic of Iran (1989) – Election of Ayatollah Khamenei as Leader (1989)\n",
            "  11/22: Victory of Islamic Revolution of Iran and Fall of Monarchy (1979)\n"
          ]
        }
      ],
      "source": [
        "from multi_calendar_dimension import persian_events, persian_events_en\n",
        "\n",
        "# رویداد نوروز\n",
        "event_fa = persian_events.get((1, 1))\n",
        "event_en = persian_events_en.get((1, 1))\n",
        "\n",
        "print(\"رویداد 1 فروردین:\")\n",
        "print(f\"  فارسی: {event_fa}\")\n",
        "print(f\"  English: {event_en}\")\n",
        "\n",
        "print(\"\\nچند رویداد دیگر:\")\n",
        "sample_dates = [(1, 12), (3, 14), (11, 22)]\n",
        "for m, d in sample_dates:\n",
        "    if (m, d) in persian_events:\n",
        "        print(f\"  {m}/{d}: {persian_events_en[(m, d)]}\")\n"
      ]
    },
    {
      "cell_type": "markdown",
      "metadata": {},
      "source": [
        "### 5.2 رویدادهای هجری\n"
      ]
    },
    {
      "cell_type": "code",
      "execution_count": 9,
      "metadata": {},
      "outputs": [
        {
          "name": "stdout",
          "output_type": "stream",
          "text": [
            "رویدادهای مهم هجری:\n",
            "\n",
            "10 Muharram: Ashura of Imam Hussein (A.S.)\n",
            "20 Safar: Arbaeen of Imam Hussein (A.S.)\n",
            "21 Ramadan: Martyrdom of Imam Ali (A.S.) (40 A.H.)\n",
            "1 Shawwal: Eid al-Fitr (Festival of Breaking the Fast)\n"
          ]
        }
      ],
      "source": [
        "from multi_calendar_dimension import hijri_events, hijri_events_en\n",
        "\n",
        "# رویدادهای مهم هجری\n",
        "important_hijri = [(1, 10), (2, 20), (9, 21), (10, 1)]\n",
        "\n",
        "print(\"رویدادهای مهم هجری:\\n\")\n",
        "for m, d in important_hijri:\n",
        "    if (m, d) in hijri_events_en:\n",
        "        month_name = get_hijri_month_name(m, True)\n",
        "        event = hijri_events_en[(m, d)]\n",
        "        print(f\"{d} {month_name}: {event}\")\n"
      ]
    },
    {
      "cell_type": "markdown",
      "metadata": {},
      "source": [
        "## 6. اطلاعات جامع یک تاریخ شمسی\n",
        "\n",
        "دریافت همه اطلاعات یک تاریخ (شمسی، میلادی، هجری، رویدادها، تعطیلات):\n"
      ]
    },
    {
      "cell_type": "code",
      "execution_count": 10,
      "metadata": {},
      "outputs": [
        {
          "name": "stdout",
          "output_type": "stream",
          "text": [
            "اطلاعات کامل تاریخ 1403/04/26:\n",
            "\n",
            "📅 تاریخ شمسی: 1403/04/26\n",
            "📅 تاریخ میلادی: 2024/07/16\n",
            "📅 تاریخ هجری: 1446/01/10\n",
            "\n",
            "🎉 تعطیل رسمی: بله\n",
            "   - تعطیل شمسی: خیر\n",
            "   - تعطیل هجری: بله\n",
            "\n",
            "📌 رویداد شمسی: تاسیس شورای نگهبان\n",
            "📌 رویداد هجری: عاشورای حسینی (ع)\n"
          ]
        }
      ],
      "source": [
        "from multi_calendar_dimension import get_all_holidays_for_jalali_date\n",
        "\n",
        "# دریافت اطلاعات کامل برای عاشورا\n",
        "info = get_all_holidays_for_jalali_date(1403, 4, 26)\n",
        "\n",
        "print(\"اطلاعات کامل تاریخ 1403/04/26:\\n\")\n",
        "print(f\"📅 تاریخ شمسی: {info['jalali_date']}\")\n",
        "print(f\"📅 تاریخ میلادی: {info['gregorian_date']}\")\n",
        "print(f\"📅 تاریخ هجری: {info['hijri_date']}\")\n",
        "print(f\"\\n🎉 تعطیل رسمی: {'بله' if info['is_official_holiday'] else 'خیر'}\")\n",
        "print(f\"   - تعطیل شمسی: {'بله' if info['is_persian_holiday'] else 'خیر'}\")\n",
        "print(f\"   - تعطیل هجری: {'بله' if info['is_hijri_holiday'] else 'خیر'}\")\n",
        "\n",
        "if info['persian_event']:\n",
        "    print(f\"\\n📌 رویداد شمسی: {info['persian_event']}\")\n",
        "if info['hijri_event']:\n",
        "    print(f\"📌 رویداد هجری: {info['hijri_event']}\")\n"
      ]
    },
    {
      "cell_type": "markdown",
      "metadata": {},
      "source": [
        "## 7. تولید جدول Date Dimension\n",
        "\n",
        "برای استفاده در Data Warehouse و BI:\n"
      ]
    },
    {
      "cell_type": "code",
      "execution_count": 11,
      "metadata": {},
      "outputs": [
        {
          "name": "stdout",
          "output_type": "stream",
          "text": [
            "✅ Import successful!\n",
            "   DateDimensionGenerator: برای تولید جدول Date Dimension کامل\n",
            "   DateDimensionConfig: برای تنظیمات generator\n"
          ]
        }
      ],
      "source": [
        "from multi_calendar_dimension import DateDimensionGenerator, DateRangeConfig\n",
        "\n",
        "print(\"✅ Import successful!\")\n",
        "print(\"   DateDimensionGenerator: برای تولید جدول Date Dimension کامل\")\n",
        "print(\"   DateDimensionConfig: برای تنظیمات generator\")"
      ]
    },
    {
      "cell_type": "code",
      "execution_count": 12,
      "metadata": {},
      "outputs": [
        {
          "name": "stdout",
          "output_type": "stream",
          "text": [
            "✅ جدول Date Dimension تولید شد!\n",
            "📊 تعداد سطرها: 366\n",
            "📊 تعداد ستون‌ها: 66\n",
            "  shamsi_date_title miladi_date shamsi_month_title  shamsi_is_holiday\n",
            "0        1403/01/01  2024-03-20       فروردین 1403                  1\n",
            "1        1403/01/02  2024-03-21       فروردین 1403                  1\n",
            "2        1403/01/03  2024-03-22       فروردین 1403                  1\n",
            "3        1403/01/04  2024-03-23       فروردین 1403                  1\n",
            "4        1403/01/05  2024-03-24       فروردین 1403                  0\n"
          ]
        },
        {
          "name": "stderr",
          "output_type": "stream",
          "text": [
            "c:\\Users\\pc\\Desktop\\pouya\\ad_hoc\\.venv\\Lib\\site-packages\\multi_calendar_dimension\\generator\\dimension.py:337: FutureWarning: DataFrameGroupBy.apply operated on the grouping columns. This behavior is deprecated, and in a future version of pandas the grouping columns will be excluded from the operation. Either pass `include_groups=False` to exclude the groupings or explicitly select the grouping columns after groupby to silence this warning.\n",
            "  df = df.sort_values(['shamsi_month_id', 'shamsi_date']).groupby('shamsi_month_id', group_keys=False).apply(self._assign_monthly_weeks)\n",
            "c:\\Users\\pc\\Desktop\\pouya\\ad_hoc\\.venv\\Lib\\site-packages\\multi_calendar_dimension\\generator\\dimension.py:338: FutureWarning: DataFrameGroupBy.apply operated on the grouping columns. This behavior is deprecated, and in a future version of pandas the grouping columns will be excluded from the operation. Either pass `include_groups=False` to exclude the groupings or explicitly select the grouping columns after groupby to silence this warning.\n",
            "  df = df.groupby('shamsi_year_id', group_keys=False).apply(self._assign_yearly_weeks)\n"
          ]
        }
      ],
      "source": [
        "# نیاز به pandas دارد\n",
        "import pandas as pd\n",
        "\n",
        "# تنظیمات نمایش بهتر\n",
        "pd.set_option('display.max_columns', None)\n",
        "\n",
        "try:\n",
        "    from multi_calendar_dimension import DateDimensionGenerator, DateDimensionConfig  # ✅ اصلاح شد\n",
        "    \n",
        "    # تولید جدول Date Dimension برای یک سال\n",
        "    config = DateDimensionConfig(  # ✅ اصلاح شد\n",
        "        start_year=1403,\n",
        "        end_year=1403,\n",
        "        include_events=True,\n",
        "        include_holidays=True,\n",
        "        include_week_calculations=True\n",
        "    )\n",
        "    \n",
        "    generator = DateDimensionGenerator(config)\n",
        "    df = generator.generate()\n",
        "    \n",
        "    print(f\"✅ جدول Date Dimension تولید شد!\")\n",
        "    print(f\"📊 تعداد سطرها: {len(df)}\")\n",
        "    print(f\"📊 تعداد ستون‌ها: {len(df.columns)}\")\n",
        "    \n",
        "    # نمایش نمونه\n",
        "    display_cols = ['shamsi_date_title', 'miladi_date', 'shamsi_month_title', 'shamsi_is_holiday']\n",
        "    print(df[display_cols].head())\n",
        "    \n",
        "except ImportError as e:\n",
        "    print(\"⚠️ برای استفاده از DateDimensionGenerator باید pandas نصب باشد\")\n",
        "    print(f\"Error: {e}\")"
      ]
    },
    {
      "cell_type": "markdown",
      "metadata": {},
      "source": [
        "### 7.1 مثال پیشرفته: تولید Date Dimension برای چند سال\n",
        "\n",
        "می‌توانید Date Dimension را برای محدوده سال‌های مختلف تولید کنید:\n"
      ]
    },
    {
      "cell_type": "code",
      "execution_count": 13,
      "metadata": {},
      "outputs": [
        {
          "name": "stdout",
          "output_type": "stream",
          "text": [
            "✅ تولید شد! 366 روز، 66 ستون\n",
            "   shamsi_date miladi_date miladi_day_of_week_title shamsi_date_title  \\\n",
            "0     14030101  2024-03-20                Wednesday        1403/01/01   \n",
            "1     14030102  2024-03-21                 Thursday        1403/01/02   \n",
            "2     14030103  2024-03-22                   Friday        1403/01/03   \n",
            "3     14030104  2024-03-23                 Saturday        1403/01/04   \n",
            "4     14030105  2024-03-24                   Sunday        1403/01/05   \n",
            "\n",
            "   shamsi_next_date  shamsi_month_id shamsi_month_title  \\\n",
            "0          14030102           140301       فروردین 1403   \n",
            "1          14030103           140301       فروردین 1403   \n",
            "2          14030104           140301       فروردین 1403   \n",
            "3          14030105           140301       فروردین 1403   \n",
            "4          14030106           140301       فروردین 1403   \n",
            "\n",
            "  shamsi_month_of_year_title  shamsi_season_id shamsi_season_title  \\\n",
            "0                    فروردین            140301           بهار 1403   \n",
            "1                    فروردین            140301           بهار 1403   \n",
            "2                    فروردین            140301           بهار 1403   \n",
            "3                    فروردین            140301           بهار 1403   \n",
            "4                    فروردین            140301           بهار 1403   \n",
            "\n",
            "   shamsi_half_year_id shamsi_half_year_title  shamsi_year_id  \\\n",
            "0               140301        نیمسال اول 1403            1403   \n",
            "1               140301        نیمسال اول 1403            1403   \n",
            "2               140301        نیمسال اول 1403            1403   \n",
            "3               140301        نیمسال اول 1403            1403   \n",
            "4               140301        نیمسال اول 1403            1403   \n",
            "\n",
            "   shamsi_month_of_year_id  shamsi_day_of_month_id  shamsi_day_of_year_id  \\\n",
            "0                        1                       1                      1   \n",
            "1                        1                       2                      2   \n",
            "2                        1                       3                      3   \n",
            "3                        1                       4                      4   \n",
            "4                        1                       5                      5   \n",
            "\n",
            "  shamsi_day_of_week_title  shamsi_day_of_week_id  shamsi_is_holiday  \\\n",
            "0                 چهارشنبه                      5                  1   \n",
            "1                 پنج‌شنبه                      6                  1   \n",
            "2                     جمعه                      7                  1   \n",
            "3                     شنبه                      1                  1   \n",
            "4                   یکشنبه                      2                  0   \n",
            "\n",
            "   shamsi_is_happy_holiday  shamsi_is_sad_holiday  shamsi_is_weekend  \\\n",
            "0                        1                      0                  0   \n",
            "1                        1                      0                  1   \n",
            "2                        1                      0                  1   \n",
            "3                        1                      0                  0   \n",
            "4                        0                      0                  0   \n",
            "\n",
            "  gregorian_next_date  gregorian_month_id gregorian_month_title  \\\n",
            "0          2024-03-21              202403            March 2024   \n",
            "1          2024-03-22              202403            March 2024   \n",
            "2          2024-03-23              202403            March 2024   \n",
            "3          2024-03-24              202403            March 2024   \n",
            "4          2024-03-25              202403            March 2024   \n",
            "\n",
            "  gregorian_month_of_year_title  gregorian_season_id gregorian_season_title  \\\n",
            "0                         March               202403            Spring 2024   \n",
            "1                         March               202403            Spring 2024   \n",
            "2                         March               202403            Spring 2024   \n",
            "3                         March               202403            Spring 2024   \n",
            "4                         March               202403            Spring 2024   \n",
            "\n",
            "   gregorian_half_year_id gregorian_half_year_title  gregorian_year_id  \\\n",
            "0                  202403                   H1 2024               2024   \n",
            "1                  202403                   H1 2024               2024   \n",
            "2                  202403                   H1 2024               2024   \n",
            "3                  202403                   H1 2024               2024   \n",
            "4                  202403                   H1 2024               2024   \n",
            "\n",
            "   gregorian_month_of_year_id  gregorian_day_of_month_id  \\\n",
            "0                           3                         20   \n",
            "1                           3                         21   \n",
            "2                           3                         22   \n",
            "3                           3                         23   \n",
            "4                           3                         24   \n",
            "\n",
            "   gregorian_day_of_year_id gregorian_day_of_week_title  \\\n",
            "0                        80                   Wednesday   \n",
            "1                        81                    Thursday   \n",
            "2                        82                      Friday   \n",
            "3                        83                    Saturday   \n",
            "4                        84                      Sunday   \n",
            "\n",
            "   gregorian_day_of_week_id  gregorian_is_holiday  gregorian_is_happy_holiday  \\\n",
            "0                         5                     0                           0   \n",
            "1                         6                     0                           0   \n",
            "2                         7                     0                           0   \n",
            "3                         1                     0                           0   \n",
            "4                         2                     0                           0   \n",
            "\n",
            "   gregorian_is_sad_holiday  gregorian_is_weekend  hijri_date  \\\n",
            "0                         0                     0    14450910   \n",
            "1                         0                     0    14450911   \n",
            "2                         0                     0    14450912   \n",
            "3                         0                     1    14450913   \n",
            "4                         0                     1    14450914   \n",
            "\n",
            "  hijri_date_title  hijri_month_id hijri_month_title  \\\n",
            "0       1445/09/10          144509        رمضان 1445   \n",
            "1       1445/09/11          144509        رمضان 1445   \n",
            "2       1445/09/12          144509        رمضان 1445   \n",
            "3       1445/09/13          144509        رمضان 1445   \n",
            "4       1445/09/14          144509        رمضان 1445   \n",
            "\n",
            "  hijri_month_of_year_title  hijri_year_id  hijri_month_of_year_id  \\\n",
            "0                     رمضان           1445                       9   \n",
            "1                     رمضان           1445                       9   \n",
            "2                     رمضان           1445                       9   \n",
            "3                     رمضان           1445                       9   \n",
            "4                     رمضان           1445                       9   \n",
            "\n",
            "   hijri_day_of_month_id  hijri_is_holiday  hijri_is_happy_holiday  \\\n",
            "0                     10                 0                       0   \n",
            "1                     11                 0                       0   \n",
            "2                     12                 0                       0   \n",
            "3                     13                 0                       0   \n",
            "4                     14                 0                       0   \n",
            "\n",
            "   hijri_is_sad_holiday                                  shamsi_event_name  \\\n",
            "0                     0                                          عید نوروز   \n",
            "1                     0  عید نوروز - آغاز عملیات فتح المبین (1361) – ته...   \n",
            "2                     0                     عید نوروز - روز جهانی هواشناسی   \n",
            "3                     0                                          عید نوروز   \n",
            "4                     0                                               None   \n",
            "\n",
            "                             gregorian_event_name_en  \\\n",
            "0                                French Language Day   \n",
            "1                            World Down Syndrome Day   \n",
            "2                                    World Water Day   \n",
            "3                           World Meteorological Day   \n",
            "4  International Day for the Right to the Truth c...   \n",
            "\n",
            "                             gregorian_event_name_fa  \\\n",
            "0                                   روز زبان فرانسوی   \n",
            "1                               روز جهانی سندرم داون   \n",
            "2                                       روز جهانی آب   \n",
            "3                                 روز جهانی هواشناسی   \n",
            "4  روز جهانی حق دسترسی به حقیقت درباره نقض‌های فا...   \n",
            "\n",
            "                          hijri_event_name  \\\n",
            "0  وفات حضرت خدیجه (س) (سال ۳ قبل از هجرت)   \n",
            "1                                     None   \n",
            "2                                     None   \n",
            "3                                     None   \n",
            "4                                     None   \n",
            "\n",
            "                       hijri_event_name_en  week_num_in_month shamsi_week_id  \\\n",
            "0  Demise of Lady Khadijah (S.A.) (3 B.H.)                  1       140301_1   \n",
            "1                                     None                  1       140301_1   \n",
            "2                                     None                  1       140301_1   \n",
            "3                                     None                  2       140301_2   \n",
            "4                                     None                  2       140301_2   \n",
            "\n",
            "   week_num_in_year shamsi_week_title shamsi_week_of_year_id  \\\n",
            "0                 1   هفته 1 سال 1403                1403_01   \n",
            "1                 1   هفته 1 سال 1403                1403_01   \n",
            "2                 1   هفته 1 سال 1403                1403_01   \n",
            "3                 2   هفته 2 سال 1403                1403_02   \n",
            "4                 2   هفته 2 سال 1403                1403_02   \n",
            "\n",
            "   gregorian_week_id gregorian_week_title gregorian_week_of_year_id  \\\n",
            "0                 12         Week 12 2024                   2024_12   \n",
            "1                 12         Week 12 2024                   2024_12   \n",
            "2                 12         Week 12 2024                   2024_12   \n",
            "3                 12         Week 12 2024                   2024_12   \n",
            "4                 12         Week 12 2024                   2024_12   \n",
            "\n",
            "   miladi_week_id  miladi_week_num_in_month  \n",
            "0              12                         1  \n",
            "1              12                         1  \n",
            "2              12                         1  \n",
            "3              12                         1  \n",
            "4              12                         1  \n"
          ]
        },
        {
          "name": "stderr",
          "output_type": "stream",
          "text": [
            "c:\\Users\\pc\\Desktop\\pouya\\ad_hoc\\.venv\\Lib\\site-packages\\multi_calendar_dimension\\generator\\dimension.py:337: FutureWarning: DataFrameGroupBy.apply operated on the grouping columns. This behavior is deprecated, and in a future version of pandas the grouping columns will be excluded from the operation. Either pass `include_groups=False` to exclude the groupings or explicitly select the grouping columns after groupby to silence this warning.\n",
            "  df = df.sort_values(['shamsi_month_id', 'shamsi_date']).groupby('shamsi_month_id', group_keys=False).apply(self._assign_monthly_weeks)\n",
            "c:\\Users\\pc\\Desktop\\pouya\\ad_hoc\\.venv\\Lib\\site-packages\\multi_calendar_dimension\\generator\\dimension.py:338: FutureWarning: DataFrameGroupBy.apply operated on the grouping columns. This behavior is deprecated, and in a future version of pandas the grouping columns will be excluded from the operation. Either pass `include_groups=False` to exclude the groupings or explicitly select the grouping columns after groupby to silence this warning.\n",
            "  df = df.groupby('shamsi_year_id', group_keys=False).apply(self._assign_yearly_weeks)\n"
          ]
        }
      ],
      "source": [
        "import pandas as pd\n",
        "from multi_calendar_dimension import DateDimensionGenerator, DateDimensionConfig\n",
        "\n",
        "config = DateDimensionConfig(\n",
        "    start_year=1403,\n",
        "    end_year=1403,\n",
        "    include_events=True,\n",
        "    include_holidays=True,\n",
        "    include_week_calculations=True\n",
        ")\n",
        "\n",
        "generator = DateDimensionGenerator(config)\n",
        "df = generator.generate()\n",
        "\n",
        "print(f\"✅ تولید شد! {len(df)} روز، {len(df.columns)} ستون\")\n",
        "print(df.head())"
      ]
    },
    {
      "cell_type": "code",
      "execution_count": 14,
      "metadata": {},
      "outputs": [
        {
          "name": "stdout",
          "output_type": "stream",
          "text": [
            "✅ Date Dimension برای 4 سال تولید شد!\n",
            "📊 کل روزها: 1,461\n",
            "📊 ستون‌ها: 66\n",
            "\n",
            "📈 آمار:\n",
            "   تعطیلات: 242 روز\n",
            "   آخر هفته‌ها: 417 روز\n",
            "   روزهای کاری: -1,908 روز\n"
          ]
        },
        {
          "name": "stderr",
          "output_type": "stream",
          "text": [
            "c:\\Users\\pc\\Desktop\\pouya\\ad_hoc\\.venv\\Lib\\site-packages\\multi_calendar_dimension\\generator\\dimension.py:337: FutureWarning: DataFrameGroupBy.apply operated on the grouping columns. This behavior is deprecated, and in a future version of pandas the grouping columns will be excluded from the operation. Either pass `include_groups=False` to exclude the groupings or explicitly select the grouping columns after groupby to silence this warning.\n",
            "  df = df.sort_values(['shamsi_month_id', 'shamsi_date']).groupby('shamsi_month_id', group_keys=False).apply(self._assign_monthly_weeks)\n",
            "c:\\Users\\pc\\Desktop\\pouya\\ad_hoc\\.venv\\Lib\\site-packages\\multi_calendar_dimension\\generator\\dimension.py:338: FutureWarning: DataFrameGroupBy.apply operated on the grouping columns. This behavior is deprecated, and in a future version of pandas the grouping columns will be excluded from the operation. Either pass `include_groups=False` to exclude the groupings or explicitly select the grouping columns after groupby to silence this warning.\n",
            "  df = df.groupby('shamsi_year_id', group_keys=False).apply(self._assign_yearly_weeks)\n"
          ]
        }
      ],
      "source": [
        "try:\n",
        "    # مثال: تولید Date Dimension برای سال‌های 1400 تا 1403\n",
        "    config = DateDimensionConfig(\n",
        "        start_year=1400,\n",
        "        end_year=1403,\n",
        "        include_events=True,\n",
        "        include_holidays=True,\n",
        "        include_week_calculations=True\n",
        "    )\n",
        "    \n",
        "    generator = DateDimensionGenerator(config)\n",
        "    df = generator.generate()\n",
        "    \n",
        "    print(f\"✅ Date Dimension برای {1403-1400+1} سال تولید شد!\")\n",
        "    print(f\"📊 کل روزها: {len(df):,}\")\n",
        "    print(f\"📊 ستون‌ها: {len(df.columns)}\")\n",
        "    \n",
        "    # آمار سریع\n",
        "    print(f\"\\n📈 آمار:\")\n",
        "    print(f\"   تعطیلات: {df['shamsi_is_holiday'].sum():,} روز\")\n",
        "    print(f\"   آخر هفته‌ها: {df['shamsi_is_weekend'].sum():,} روز\")\n",
        "    print(f\"   روزهای کاری: {(~df['shamsi_is_holiday'] & ~df['shamsi_is_weekend']).sum():,} روز\")\n",
        "    \n",
        "except Exception as e:\n",
        "    print(f\"خطا: {e}\")\n"
      ]
    },
    {
      "cell_type": "markdown",
      "metadata": {},
      "source": [
        "## 8. تولید بازه ماهانه\n",
        "\n",
        "تولید لیست تمام روزهای یک ماه:\n"
      ]
    },
    {
      "cell_type": "code",
      "execution_count": 15,
      "metadata": {},
      "outputs": [
        {
          "name": "stdout",
          "output_type": "stream",
          "text": [
            "✅ Import successful!\n",
            "   DateRangeGenerator: برای تولید بازه ماهانه\n",
            "   DateRangeConfig: برای تنظیمات generator\n",
            "   CalendarType: نوع تقویم (JALALI, GREGORIAN, HIJRI)\n"
          ]
        }
      ],
      "source": [
        "from multi_calendar_dimension import DateRangeGenerator, DateRangeConfig, CalendarType\n",
        "\n",
        "print(\"✅ Import successful!\")\n",
        "print(\"   DateRangeGenerator: برای تولید بازه ماهانه\")\n",
        "print(\"   DateRangeConfig: برای تنظیمات generator\")\n",
        "print(\"   CalendarType: نوع تقویم (JALALI, GREGORIAN, HIJRI)\")"
      ]
    },
    {
      "cell_type": "code",
      "execution_count": 16,
      "metadata": {},
      "outputs": [
        {
          "name": "stdout",
          "output_type": "stream",
          "text": [
            "✅ بازه فروردین 1403 تولید شد!\n",
            "📊 تعداد روزها: 31\n",
            "\n",
            "5 روز اول فروردین:\n",
            "   shamsi_date_title miladi_date  shamsi_is_holiday\n",
            "31        1400/02/01  2021-04-21                  0\n",
            "32        1400/02/02  2021-04-22                  0\n",
            "33        1400/02/03  2021-04-23                  1\n",
            "34        1400/02/04  2021-04-24                  0\n",
            "35        1400/02/05  2021-04-25                  0\n",
            "\n",
            "📊 خلاصه:\n",
            "   تعداد کل روزها: 31\n",
            "   تعداد تعطیلات: 5\n",
            "   تعداد آخر هفته‌ها: 10\n"
          ]
        },
        {
          "name": "stderr",
          "output_type": "stream",
          "text": [
            "c:\\Users\\pc\\Desktop\\pouya\\ad_hoc\\.venv\\Lib\\site-packages\\multi_calendar_dimension\\generator\\dimension.py:337: FutureWarning: DataFrameGroupBy.apply operated on the grouping columns. This behavior is deprecated, and in a future version of pandas the grouping columns will be excluded from the operation. Either pass `include_groups=False` to exclude the groupings or explicitly select the grouping columns after groupby to silence this warning.\n",
            "  df = df.sort_values(['shamsi_month_id', 'shamsi_date']).groupby('shamsi_month_id', group_keys=False).apply(self._assign_monthly_weeks)\n",
            "c:\\Users\\pc\\Desktop\\pouya\\ad_hoc\\.venv\\Lib\\site-packages\\multi_calendar_dimension\\generator\\dimension.py:338: FutureWarning: DataFrameGroupBy.apply operated on the grouping columns. This behavior is deprecated, and in a future version of pandas the grouping columns will be excluded from the operation. Either pass `include_groups=False` to exclude the groupings or explicitly select the grouping columns after groupby to silence this warning.\n",
            "  df = df.groupby('shamsi_year_id', group_keys=False).apply(self._assign_yearly_weeks)\n",
            "c:\\Users\\pc\\Desktop\\pouya\\ad_hoc\\.venv\\Lib\\site-packages\\multi_calendar_dimension\\generator\\dimension.py:337: FutureWarning: DataFrameGroupBy.apply operated on the grouping columns. This behavior is deprecated, and in a future version of pandas the grouping columns will be excluded from the operation. Either pass `include_groups=False` to exclude the groupings or explicitly select the grouping columns after groupby to silence this warning.\n",
            "  df = df.sort_values(['shamsi_month_id', 'shamsi_date']).groupby('shamsi_month_id', group_keys=False).apply(self._assign_monthly_weeks)\n",
            "c:\\Users\\pc\\Desktop\\pouya\\ad_hoc\\.venv\\Lib\\site-packages\\multi_calendar_dimension\\generator\\dimension.py:338: FutureWarning: DataFrameGroupBy.apply operated on the grouping columns. This behavior is deprecated, and in a future version of pandas the grouping columns will be excluded from the operation. Either pass `include_groups=False` to exclude the groupings or explicitly select the grouping columns after groupby to silence this warning.\n",
            "  df = df.groupby('shamsi_year_id', group_keys=False).apply(self._assign_yearly_weeks)\n"
          ]
        }
      ],
      "source": [
        "try:\n",
        "    from multi_calendar_dimension import DateRangeGenerator, DateRangeConfig, CalendarType\n",
        "    \n",
        "    # تولید بازه فروردین 1403\n",
        "    # ابتدا config را می‌سازیم\n",
        "    config = DateRangeConfig(\n",
        "        calendar_type=CalendarType.JALALI,\n",
        "        start_year=1400,\n",
        "        start_month=2,  # فروردین\n",
        "        end_year=1400,\n",
        "        end_month=2,    # فقط فروردین\n",
        "        include_events=True,\n",
        "        include_holidays=True\n",
        "    )\n",
        "    \n",
        "    # حالا generator را با config می‌سازیم\n",
        "    generator = DateRangeGenerator(config)\n",
        "    df = generator.generate()\n",
        "    \n",
        "    print(f\"✅ بازه فروردین 1403 تولید شد!\")\n",
        "    print(f\"📊 تعداد روزها: {len(df)}\")\n",
        "    print(f\"\\n5 روز اول فروردین:\")\n",
        "    display_cols = ['shamsi_date_title', 'miladi_date', 'shamsi_is_holiday']\n",
        "    print(df[display_cols].head())\n",
        "    \n",
        "    # خلاصه اطلاعات\n",
        "    summary = generator.get_summary()\n",
        "    print(f\"\\n📊 خلاصه:\")\n",
        "    print(f\"   تعداد کل روزها: {summary['total_days']}\")\n",
        "    print(f\"   تعداد تعطیلات: {summary['holidays_count']}\")\n",
        "    print(f\"   تعداد آخر هفته‌ها: {summary['weekends_count']}\")\n",
        "    \n",
        "except ImportError as e:\n",
        "    print(\"⚠️ برای استفاده از DateRangeGenerator باید pandas نصب باشد\")\n",
        "    print(f\"Error: {e}\")\n"
      ]
    },
    {
      "cell_type": "code",
      "execution_count": 17,
      "metadata": {},
      "outputs": [
        {
          "data": {
            "text/html": [
              "<div>\n",
              "<style scoped>\n",
              "    .dataframe tbody tr th:only-of-type {\n",
              "        vertical-align: middle;\n",
              "    }\n",
              "\n",
              "    .dataframe tbody tr th {\n",
              "        vertical-align: top;\n",
              "    }\n",
              "\n",
              "    .dataframe thead th {\n",
              "        text-align: right;\n",
              "    }\n",
              "</style>\n",
              "<table border=\"1\" class=\"dataframe\">\n",
              "  <thead>\n",
              "    <tr style=\"text-align: right;\">\n",
              "      <th></th>\n",
              "      <th>shamsi_date</th>\n",
              "      <th>miladi_date</th>\n",
              "      <th>miladi_day_of_week_title</th>\n",
              "      <th>shamsi_date_title</th>\n",
              "      <th>shamsi_next_date</th>\n",
              "      <th>shamsi_month_id</th>\n",
              "      <th>shamsi_month_title</th>\n",
              "      <th>shamsi_month_of_year_title</th>\n",
              "      <th>shamsi_season_id</th>\n",
              "      <th>shamsi_season_title</th>\n",
              "      <th>shamsi_half_year_id</th>\n",
              "      <th>shamsi_half_year_title</th>\n",
              "      <th>shamsi_year_id</th>\n",
              "      <th>shamsi_month_of_year_id</th>\n",
              "      <th>shamsi_day_of_month_id</th>\n",
              "      <th>shamsi_day_of_year_id</th>\n",
              "      <th>shamsi_day_of_week_title</th>\n",
              "      <th>shamsi_day_of_week_id</th>\n",
              "      <th>shamsi_is_holiday</th>\n",
              "      <th>shamsi_is_happy_holiday</th>\n",
              "      <th>shamsi_is_sad_holiday</th>\n",
              "      <th>shamsi_is_weekend</th>\n",
              "      <th>gregorian_next_date</th>\n",
              "      <th>gregorian_month_id</th>\n",
              "      <th>gregorian_month_title</th>\n",
              "      <th>gregorian_month_of_year_title</th>\n",
              "      <th>gregorian_season_id</th>\n",
              "      <th>gregorian_season_title</th>\n",
              "      <th>gregorian_half_year_id</th>\n",
              "      <th>gregorian_half_year_title</th>\n",
              "      <th>gregorian_year_id</th>\n",
              "      <th>gregorian_month_of_year_id</th>\n",
              "      <th>gregorian_day_of_month_id</th>\n",
              "      <th>gregorian_day_of_year_id</th>\n",
              "      <th>gregorian_day_of_week_title</th>\n",
              "      <th>gregorian_day_of_week_id</th>\n",
              "      <th>gregorian_is_holiday</th>\n",
              "      <th>gregorian_is_happy_holiday</th>\n",
              "      <th>gregorian_is_sad_holiday</th>\n",
              "      <th>gregorian_is_weekend</th>\n",
              "      <th>hijri_date</th>\n",
              "      <th>hijri_date_title</th>\n",
              "      <th>hijri_month_id</th>\n",
              "      <th>hijri_month_title</th>\n",
              "      <th>hijri_month_of_year_title</th>\n",
              "      <th>hijri_year_id</th>\n",
              "      <th>hijri_month_of_year_id</th>\n",
              "      <th>hijri_day_of_month_id</th>\n",
              "      <th>hijri_is_holiday</th>\n",
              "      <th>hijri_is_happy_holiday</th>\n",
              "      <th>hijri_is_sad_holiday</th>\n",
              "      <th>shamsi_event_name</th>\n",
              "      <th>gregorian_event_name_en</th>\n",
              "      <th>gregorian_event_name_fa</th>\n",
              "      <th>hijri_event_name</th>\n",
              "      <th>hijri_event_name_en</th>\n",
              "      <th>week_num_in_month</th>\n",
              "      <th>shamsi_week_id</th>\n",
              "      <th>week_num_in_year</th>\n",
              "      <th>shamsi_week_title</th>\n",
              "      <th>shamsi_week_of_year_id</th>\n",
              "      <th>gregorian_week_id</th>\n",
              "      <th>gregorian_week_title</th>\n",
              "      <th>gregorian_week_of_year_id</th>\n",
              "      <th>miladi_week_id</th>\n",
              "      <th>miladi_week_num_in_month</th>\n",
              "    </tr>\n",
              "  </thead>\n",
              "  <tbody>\n",
              "    <tr>\n",
              "      <th>53</th>\n",
              "      <td>14000223</td>\n",
              "      <td>2021-05-13</td>\n",
              "      <td>Thursday</td>\n",
              "      <td>1400/02/23</td>\n",
              "      <td>14000224</td>\n",
              "      <td>140002</td>\n",
              "      <td>اردیبهشت 1400</td>\n",
              "      <td>اردیبهشت</td>\n",
              "      <td>140002</td>\n",
              "      <td>بهار 1400</td>\n",
              "      <td>140002</td>\n",
              "      <td>نیمسال اول 1400</td>\n",
              "      <td>1400</td>\n",
              "      <td>2</td>\n",
              "      <td>23</td>\n",
              "      <td>54</td>\n",
              "      <td>پنج‌شنبه</td>\n",
              "      <td>6</td>\n",
              "      <td>0</td>\n",
              "      <td>0</td>\n",
              "      <td>0</td>\n",
              "      <td>1</td>\n",
              "      <td>2021-05-14</td>\n",
              "      <td>202105</td>\n",
              "      <td>May 2021</td>\n",
              "      <td>May</td>\n",
              "      <td>202105</td>\n",
              "      <td>Spring 2021</td>\n",
              "      <td>202105</td>\n",
              "      <td>H1 2021</td>\n",
              "      <td>2021</td>\n",
              "      <td>5</td>\n",
              "      <td>13</td>\n",
              "      <td>133</td>\n",
              "      <td>Thursday</td>\n",
              "      <td>6</td>\n",
              "      <td>0</td>\n",
              "      <td>0</td>\n",
              "      <td>0</td>\n",
              "      <td>0</td>\n",
              "      <td>14421001</td>\n",
              "      <td>1442/10/01</td>\n",
              "      <td>144210</td>\n",
              "      <td>شوال 1442</td>\n",
              "      <td>شوال</td>\n",
              "      <td>1442</td>\n",
              "      <td>10</td>\n",
              "      <td>1</td>\n",
              "      <td>1</td>\n",
              "      <td>1</td>\n",
              "      <td>0</td>\n",
              "      <td>None</td>\n",
              "      <td>None</td>\n",
              "      <td>None</td>\n",
              "      <td>عید فطر</td>\n",
              "      <td>Eid al-Fitr (Festival of Breaking the Fast)</td>\n",
              "      <td>4</td>\n",
              "      <td>140002_4</td>\n",
              "      <td>8</td>\n",
              "      <td>هفته 8 سال 1400</td>\n",
              "      <td>1400_08</td>\n",
              "      <td>19</td>\n",
              "      <td>Week 19 2021</td>\n",
              "      <td>2021_19</td>\n",
              "      <td>19</td>\n",
              "      <td>3</td>\n",
              "    </tr>\n",
              "  </tbody>\n",
              "</table>\n",
              "</div>"
            ],
            "text/plain": [
              "    shamsi_date miladi_date miladi_day_of_week_title shamsi_date_title  \\\n",
              "53     14000223  2021-05-13                 Thursday        1400/02/23   \n",
              "\n",
              "    shamsi_next_date  shamsi_month_id shamsi_month_title  \\\n",
              "53          14000224           140002      اردیبهشت 1400   \n",
              "\n",
              "   shamsi_month_of_year_title  shamsi_season_id shamsi_season_title  \\\n",
              "53                   اردیبهشت            140002           بهار 1400   \n",
              "\n",
              "    shamsi_half_year_id shamsi_half_year_title  shamsi_year_id  \\\n",
              "53               140002        نیمسال اول 1400            1400   \n",
              "\n",
              "    shamsi_month_of_year_id  shamsi_day_of_month_id  shamsi_day_of_year_id  \\\n",
              "53                        2                      23                     54   \n",
              "\n",
              "   shamsi_day_of_week_title  shamsi_day_of_week_id  shamsi_is_holiday  \\\n",
              "53                 پنج‌شنبه                      6                  0   \n",
              "\n",
              "    shamsi_is_happy_holiday  shamsi_is_sad_holiday  shamsi_is_weekend  \\\n",
              "53                        0                      0                  1   \n",
              "\n",
              "   gregorian_next_date  gregorian_month_id gregorian_month_title  \\\n",
              "53          2021-05-14              202105              May 2021   \n",
              "\n",
              "   gregorian_month_of_year_title  gregorian_season_id gregorian_season_title  \\\n",
              "53                           May               202105            Spring 2021   \n",
              "\n",
              "    gregorian_half_year_id gregorian_half_year_title  gregorian_year_id  \\\n",
              "53                  202105                   H1 2021               2021   \n",
              "\n",
              "    gregorian_month_of_year_id  gregorian_day_of_month_id  \\\n",
              "53                           5                         13   \n",
              "\n",
              "    gregorian_day_of_year_id gregorian_day_of_week_title  \\\n",
              "53                       133                    Thursday   \n",
              "\n",
              "    gregorian_day_of_week_id  gregorian_is_holiday  \\\n",
              "53                         6                     0   \n",
              "\n",
              "    gregorian_is_happy_holiday  gregorian_is_sad_holiday  \\\n",
              "53                           0                         0   \n",
              "\n",
              "    gregorian_is_weekend  hijri_date hijri_date_title  hijri_month_id  \\\n",
              "53                     0    14421001       1442/10/01          144210   \n",
              "\n",
              "   hijri_month_title hijri_month_of_year_title  hijri_year_id  \\\n",
              "53         شوال 1442                      شوال           1442   \n",
              "\n",
              "    hijri_month_of_year_id  hijri_day_of_month_id  hijri_is_holiday  \\\n",
              "53                      10                      1                 1   \n",
              "\n",
              "    hijri_is_happy_holiday  hijri_is_sad_holiday shamsi_event_name  \\\n",
              "53                       1                     0              None   \n",
              "\n",
              "   gregorian_event_name_en gregorian_event_name_fa hijri_event_name  \\\n",
              "53                    None                    None          عید فطر   \n",
              "\n",
              "                            hijri_event_name_en  week_num_in_month  \\\n",
              "53  Eid al-Fitr (Festival of Breaking the Fast)                  4   \n",
              "\n",
              "   shamsi_week_id  week_num_in_year shamsi_week_title shamsi_week_of_year_id  \\\n",
              "53       140002_4                 8   هفته 8 سال 1400                1400_08   \n",
              "\n",
              "    gregorian_week_id gregorian_week_title gregorian_week_of_year_id  \\\n",
              "53                 19         Week 19 2021                   2021_19   \n",
              "\n",
              "    miladi_week_id  miladi_week_num_in_month  \n",
              "53              19                         3  "
            ]
          },
          "execution_count": 17,
          "metadata": {},
          "output_type": "execute_result"
        }
      ],
      "source": [
        "df[df['shamsi_date']==14000223]"
      ]
    },
    {
      "cell_type": "markdown",
      "metadata": {},
      "source": [
        "## 9. مثال‌های کاربردی\n",
        "\n",
        "### مثال 1: پیدا کردن تمام تعطیلات یک ماه\n"
      ]
    },
    {
      "cell_type": "code",
      "execution_count": 18,
      "metadata": {},
      "outputs": [
        {
          "name": "stdout",
          "output_type": "stream",
          "text": [
            "تعطیلات رسمی 1 / 1403:\n",
            "\n",
            "  1403/01/01 - تعطیل persian\n",
            "  1403/01/02 - تعطیل persian\n",
            "  1403/01/03 - تعطیل persian\n",
            "  1403/01/04 - تعطیل persian\n",
            "  1403/01/12 - تعطیل persian\n",
            "  1403/01/13 - تعطیل persian\n",
            "  1403/01/22 - تعطیل hijri\n",
            "  1403/01/23 - تعطیل hijri\n"
          ]
        }
      ],
      "source": [
        "# پیدا کردن تمام تعطیلات فروردین 1403\n",
        "year, month = 1403, 1\n",
        "\n",
        "print(f\"تعطیلات رسمی {month} / {year}:\\n\")\n",
        "\n",
        "for day in range(1, 32):  # فروردین 31 روزه\n",
        "    result = is_iranian_holiday(year, month, day)\n",
        "    if result['is_holiday']:\n",
        "        print(f\"  {year}/{month:02d}/{day:02d} - تعطیل {result['holiday_type']}\")\n"
      ]
    },
    {
      "cell_type": "markdown",
      "metadata": {},
      "source": [
        "### مثال 2: تبدیل چند تاریخ به صورت دسته‌ای\n"
      ]
    },
    {
      "cell_type": "code",
      "execution_count": 19,
      "metadata": {},
      "outputs": [
        {
          "name": "stdout",
          "output_type": "stream",
          "text": [
            "تبدیل دسته‌ای میلادی به هجری:\n",
            "\n",
            "Islamic New Year:\n",
            "  2023-07-19 → 1 Muharram 1445\n",
            "\n",
            "Ramadan Start:\n",
            "  2024-03-11 → 1 Ramadan 1445\n",
            "\n",
            "Eid al-Fitr:\n",
            "  2024-04-10 → 1 Shawwal 1445\n",
            "\n",
            "Eid al-Adha:\n",
            "  2024-06-17 → 11 Dhu al-Hijjah 1445\n",
            "\n"
          ]
        }
      ],
      "source": [
        "# تبدیل چند تاریخ میلادی به هجری با نام ماه\n",
        "gregorian_dates = [\n",
        "    (2023, 7, 19, \"Islamic New Year\"),\n",
        "    (2024, 3, 11, \"Ramadan Start\"),\n",
        "    (2024, 4, 10, \"Eid al-Fitr\"),\n",
        "    (2024, 6, 17, \"Eid al-Adha\"),\n",
        "]\n",
        "\n",
        "print(\"تبدیل دسته‌ای میلادی به هجری:\\n\")\n",
        "for gy, gm, gd, description in gregorian_dates:\n",
        "    hy, hm, hd = gregorian_to_hijri(gy, gm, gd)\n",
        "    month_name = get_hijri_month_name(hm, True)\n",
        "    \n",
        "    print(f\"{description}:\")\n",
        "    print(f\"  {gy}-{gm:02d}-{gd:02d} → {hd} {month_name} {hy}\")\n",
        "    print()\n"
      ]
    },
    {
      "cell_type": "markdown",
      "metadata": {},
      "source": [
        "### مثال 3: بررسی سال کبیسه\n"
      ]
    },
    {
      "cell_type": "code",
      "execution_count": 20,
      "metadata": {},
      "outputs": [
        {
          "name": "stdout",
          "output_type": "stream",
          "text": [
            "سال‌های کبیسه شمسی:\n",
            "  1403: کبیسه ✅\n",
            "  1404: عادی\n",
            "  1405: عادی\n",
            "  1406: عادی\n",
            "  1407: کبیسه ✅\n",
            "\n",
            "سال‌های کبیسه هجری:\n",
            "  1445: کبیسه ✅\n",
            "  1446: عادی\n",
            "  1447: کبیسه ✅\n",
            "  1448: عادی\n",
            "  1449: عادی\n"
          ]
        }
      ],
      "source": [
        "from multi_calendar_dimension import is_leap_year_persian, is_hijri_leap\n",
        "\n",
        "# بررسی سال‌های کبیسه شمسی\n",
        "print(\"سال‌های کبیسه شمسی:\")\n",
        "for year in range(1403, 1408):\n",
        "    leap = \"کبیسه ✅\" if is_leap_year_persian(year) else \"عادی\"\n",
        "    print(f\"  {year}: {leap}\")\n",
        "\n",
        "print(\"\\nسال‌های کبیسه هجری:\")\n",
        "for year in range(1445, 1450):\n",
        "    leap = \"کبیسه ✅\" if is_hijri_leap(year) else \"عادی\"\n",
        "    print(f\"  {year}: {leap}\")\n"
      ]
    },
    {
      "cell_type": "markdown",
      "metadata": {},
      "source": [
        "### مثال 4: تقویم یک ماه با تعطیلات\n"
      ]
    },
    {
      "cell_type": "code",
      "execution_count": 21,
      "metadata": {},
      "outputs": [
        {
          "name": "stdout",
          "output_type": "stream",
          "text": [
            "تقویم فروردین 1403 (با علامت‌گذاری تعطیلات):\n",
            "\n",
            "🔴 1403/01/01  عید نوروز (persian)\n",
            "🔴 1403/01/02  عید نوروز - آغاز عملیات فتح ال... (persian)\n",
            "🔴 1403/01/03  عید نوروز - روز جهانی هواشناسی (persian)\n",
            "🔴 1403/01/04  عید نوروز (persian)\n",
            "⚪ 1403/01/05  \n",
            "⚪ 1403/01/06  روز امید، روز شادباش نویسی\n",
            "⚪ 1403/01/07  \n",
            "⚪ 1403/01/08  \n",
            "⚪ 1403/01/09  \n",
            "⚪ 1403/01/10  \n",
            "⚪ 1403/01/11  \n",
            "🔴 1403/01/12  روز جمهوری اسلامی ایران (persian)\n",
            "🔴 1403/01/13  روز طبیعت (persian)\n",
            "⚪ 1403/01/14  \n",
            "⚪ 1403/01/15  \n",
            "⚪ 1403/01/16  \n",
            "⚪ 1403/01/17  \n",
            "⚪ 1403/01/18  روز سلامتی (روز جهانی بهداشت)\n",
            "⚪ 1403/01/19  شهادت آیت الله سید محمد باقر ص...\n",
            "⚪ 1403/01/20  روز ملی فناوری هسته‌ای\n",
            "⚪ 1403/01/21  شهادت امیر سپهبد علی صیاد شیرا...\n",
            "🔴 1403/01/22   (hijri)\n",
            "🔴 1403/01/23   (hijri)\n",
            "⚪ 1403/01/24  \n",
            "⚪ 1403/01/25  روز بزرگداشت عطار نیشابوری\n",
            "⚪ 1403/01/26  \n",
            "⚪ 1403/01/27  \n",
            "⚪ 1403/01/28  \n",
            "⚪ 1403/01/29  روز ارتش جمهوری اسلامی ایران\n",
            "⚪ 1403/01/30  روز وقف\n",
            "⚪ 1403/01/31  \n"
          ]
        }
      ],
      "source": [
        "# نمایش تقویم فروردین 1403 با تعطیلات\n",
        "print(\"تقویم فروردین 1403 (با علامت‌گذاری تعطیلات):\\n\")\n",
        "\n",
        "for day in range(1, 32):\n",
        "    result = is_iranian_holiday(1403, 1, day)\n",
        "    marker = \"🔴\" if result['is_holiday'] else \"⚪\"\n",
        "    holiday_info = f\" ({result['holiday_type']})\" if result['is_holiday'] else \"\"\n",
        "    \n",
        "    # دریافت رویداد اگر وجود دارد\n",
        "    event = persian_events.get((1, day), \"\")\n",
        "    event_short = event[:30] + \"...\" if len(event) > 30 else event\n",
        "    \n",
        "    print(f\"{marker} {1403}/{1:02d}/{day:02d}  {event_short}{holiday_info}\")\n"
      ]
    },
    {
      "cell_type": "markdown",
      "metadata": {},
      "source": [
        "### مثال 5: کار با DataFrame (pandas)\n"
      ]
    },
    {
      "cell_type": "code",
      "execution_count": 22,
      "metadata": {},
      "outputs": [
        {
          "name": "stdout",
          "output_type": "stream",
          "text": [
            "📊 DataFrame با تاریخ‌های تبدیل شده:\n",
            "\n",
            " Gregorian     Jalali      Hijri     Hijri_Month\n",
            "2024-03-20 1403/01/01 1445/09/10         Ramadan\n",
            "2024-07-19 1403/04/29 1446/01/13        Muharram\n",
            "2024-12-25 1403/10/05 1446/06/23 Jumada al-Thani\n"
          ]
        }
      ],
      "source": [
        "try:\n",
        "    import pandas as pd\n",
        "    \n",
        "    # تبدیل لیست تاریخ‌های میلادی به DataFrame\n",
        "    gregorian_dates = [\n",
        "        \"2024-03-20\",\n",
        "        \"2024-07-19\",\n",
        "        \"2024-12-25\",\n",
        "    ]\n",
        "    \n",
        "    # ایجاد DataFrame\n",
        "    data = []\n",
        "    for date_str in gregorian_dates:\n",
        "        gy, gm, gd = map(int, date_str.split('-'))\n",
        "        jy, jm, jd = gregorian_to_jalali(gy, gm, gd)\n",
        "        hy, hm, hdd = gregorian_to_hijri(gy, gm, gd)\n",
        "        \n",
        "        data.append({\n",
        "            'Gregorian': date_str,\n",
        "            'Jalali': f'{jy}/{jm:02d}/{jd:02d}',\n",
        "            'Hijri': f'{hy}/{hm:02d}/{hdd:02d}',\n",
        "            'Hijri_Month': get_hijri_month_name(hm, True)\n",
        "        })\n",
        "    \n",
        "    df = pd.DataFrame(data)\n",
        "    print(\"📊 DataFrame با تاریخ‌های تبدیل شده:\\n\")\n",
        "    print(df.to_string(index=False))\n",
        "    \n",
        "except ImportError:\n",
        "    print(\"⚠️ pandas نصب نیست\")\n"
      ]
    },
    {
      "cell_type": "markdown",
      "metadata": {},
      "source": [
        "### مثال 6: محاسبه فاصله بین دو تاریخ\n"
      ]
    },
    {
      "cell_type": "code",
      "execution_count": 23,
      "metadata": {},
      "outputs": [
        {
          "name": "stdout",
          "output_type": "stream",
          "text": [
            "فاصله بین (1400, 2, 1) و (1400, 2, 29):\n",
            "  28 روز\n",
            "  0.9 ماه تقریبی\n",
            "  0.08 سال تقریبی\n"
          ]
        }
      ],
      "source": [
        "from datetime import datetime\n",
        "\n",
        "# تبدیل تاریخ شمسی به datetime\n",
        "date1_jalali = (1400, 2, 1)\n",
        "date2_jalali = (1400, 2, 29)\n",
        "\n",
        "# تبدیل به میلادی\n",
        "date1_greg = jalali_to_gregorian(*date1_jalali)\n",
        "date2_greg = jalali_to_gregorian(*date2_jalali)\n",
        "\n",
        "# محاسبه فاصله\n",
        "dt1 = datetime(*date1_greg)\n",
        "dt2 = datetime(*date2_greg)\n",
        "diff = (dt2 - dt1).days\n",
        "\n",
        "print(f\"فاصله بین {date1_jalali} و {date2_jalali}:\")\n",
        "print(f\"  {diff} روز\")\n",
        "print(f\"  {diff / 30:.1f} ماه تقریبی\")\n",
        "print(f\"  {diff / 365:.2f} سال تقریبی\")\n"
      ]
    },
    {
      "cell_type": "markdown",
      "metadata": {},
      "source": [
        "### مثال 7: تبدیل تاریخ امروز به همه تقویم‌ها\n"
      ]
    },
    {
      "cell_type": "code",
      "execution_count": 24,
      "metadata": {},
      "outputs": [
        {
          "name": "stdout",
          "output_type": "stream",
          "text": [
            "📅 امروز:\n",
            "\n",
            "میلادی: 2025/10/28\n",
            "شمسی: 1404/08/06\n",
            "هجری: 6 Jumada al-Ula 1447\n",
            "\n",
            "تعطیل: خیر ❌\n"
          ]
        }
      ],
      "source": [
        "# تاریخ امروز\n",
        "today = datetime.now()\n",
        "gy, gm, gd = today.year, today.month, today.day\n",
        "\n",
        "# تبدیل به شمسی\n",
        "jy, jm, jd = gregorian_to_jalali(gy, gm, gd)\n",
        "\n",
        "# تبدیل به هجری\n",
        "hy, hm, hdd = gregorian_to_hijri(gy, gm, gd)\n",
        "hijri_month_name = get_hijri_month_name(hm, True)\n",
        "\n",
        "# بررسی تعطیل\n",
        "holiday_info = is_iranian_holiday(jy, jm, jd)\n",
        "\n",
        "print(\"📅 امروز:\\n\")\n",
        "print(f\"میلادی: {gy}/{gm:02d}/{gd:02d}\")\n",
        "print(f\"شمسی: {jy}/{jm:02d}/{jd:02d}\")\n",
        "print(f\"هجری: {hdd} {hijri_month_name} {hy}\")\n",
        "print(f\"\\nتعطیل: {'بله ✅' if holiday_info['is_holiday'] else 'خیر ❌'}\")\n"
      ]
    },
    {
      "cell_type": "markdown",
      "metadata": {},
      "source": [
        "### مثال 8: یافتن رویدادهای مهم یک سال\n"
      ]
    },
    {
      "cell_type": "code",
      "execution_count": 25,
      "metadata": {},
      "outputs": [
        {
          "name": "stdout",
          "output_type": "stream",
          "text": [
            "تعطیلات رسمی سال 1403:\n",
            "\n",
            "1️⃣ تعطیلات شمسی (ثابت):\n",
            "  01/01 - عید نوروز\n",
            "  01/02 - عید نوروز - آغاز عملیات فتح المبین (1361\n",
            "  01/03 - عید نوروز - روز جهانی هواشناسی\n",
            "  01/04 - عید نوروز\n",
            "  01/12 - روز جمهوری اسلامی ایران\n",
            "  01/13 - روز طبیعت\n",
            "  03/14 - رحلت حضرت امام خمینی (ره) رهبر کبیر انقل\n",
            "  03/15 - قیام خونین 15 خرداد (1342) - روز جهانی م\n",
            "  11/22 - پیروزی انقلاب اسلامی ایران و سقوط نظام ش\n",
            "  12/29 - روز ملی شدن صنعت نفت ایران (1329)\n",
            "\n",
            "2️⃣ تعطیلات هجری (برای سال 1403 شمسی):\n",
            "  نیاز به محاسبه تبدیل برای هر روز...\n",
            "  (در Date Dimension کامل محاسبه می‌شود)\n"
          ]
        }
      ],
      "source": [
        "# یافتن همه تعطیلات رسمی سال 1403\n",
        "from multi_calendar_dimension import persian_holidays, hijri_official_holidays\n",
        "\n",
        "print(\"تعطیلات رسمی سال 1403:\\n\")\n",
        "\n",
        "# تعطیلات شمسی (ثابت)\n",
        "print(\"1️⃣ تعطیلات شمسی (ثابت):\")\n",
        "for (m, d), value in sorted(persian_holidays.items()):\n",
        "    event = persian_events.get((m, d), \"\")\n",
        "    print(f\"  {m:02d}/{d:02d} - {event[:40]}\")\n",
        "\n",
        "# تعطیلات هجری (متغیر - باید برای هر سال محاسبه شوند)\n",
        "print(\"\\n2️⃣ تعطیلات هجری (برای سال 1403 شمسی):\")\n",
        "print(\"  نیاز به محاسبه تبدیل برای هر روز...\")\n",
        "print(\"  (در Date Dimension کامل محاسبه می‌شود)\")\n"
      ]
    },
    {
      "cell_type": "markdown",
      "metadata": {},
      "source": [
        "## 10. خلاصه و نکات مهم\n",
        "\n",
        "### تمام قابلیت‌های کتابخانه:\n"
      ]
    },
    {
      "cell_type": "code",
      "execution_count": 26,
      "metadata": {},
      "outputs": [
        {
          "name": "stdout",
          "output_type": "stream",
          "text": [
            "📚 کتابخانه Multi-Calendar Dimension\n",
            "\n",
            "============================================================\n",
            "\n",
            "✅ تبدیل تاریخ:\n",
            "  • jalali_to_gregorian()\n",
            "  • gregorian_to_jalali()\n",
            "  • jalali_to_hijri()\n",
            "  • gregorian_to_hijri()\n",
            "  • hijri_to_gregorian()\n",
            "  • hijri_to_jalali()\n",
            "\n",
            "✅ نام ماه‌ها:\n",
            "  • get_hijri_month_name()\n",
            "  • HIJRI_MONTH_NAMES (dictionary)\n",
            "  • HIJRI_MONTH_NAMES_EN (dictionary)\n",
            "\n",
            "✅ تعطیلات و رویدادها:\n",
            "  • is_iranian_holiday()\n",
            "  • get_all_holidays_for_jalali_date()\n",
            "  • persian_events (166 رویداد)\n",
            "  • persian_events_en (166 رویداد)\n",
            "  • hijri_events (رویدادهای قمری)\n",
            "  • gregorian_events (رویدادهای میلادی)\n",
            "\n",
            "✅ سال کبیسه:\n",
            "  • is_leap_year_persian()\n",
            "  • is_hijri_leap()\n",
            "\n",
            "✅ تولید جدول (نیاز به pandas):\n",
            "  • DateDimensionGenerator\n",
            "  • DateRangeGenerator\n",
            "\n",
            "✅ اطلاعات امروز:\n",
            "  • CurrentDate\n",
            "\n",
            "============================================================\n",
            "🔗 لینک‌ها:\n",
            "  PyPI: https://pypi.org/project/multi-calendar-dimension/\n",
            "  GitHub: https://github.com/pouya-kia/multi-calendar-dimension\n",
            "  نویسنده: Pouya Kia (kiaa.pouya@gmail.com)\n"
          ]
        }
      ],
      "source": [
        "print(\"📚 کتابخانه Multi-Calendar Dimension\\n\")\n",
        "print(\"=\"*60)\n",
        "\n",
        "print(\"\\n✅ تبدیل تاریخ:\")\n",
        "print(\"  • jalali_to_gregorian()\")\n",
        "print(\"  • gregorian_to_jalali()\")\n",
        "print(\"  • jalali_to_hijri()\")\n",
        "print(\"  • gregorian_to_hijri()\")\n",
        "print(\"  • hijri_to_gregorian()\")\n",
        "print(\"  • hijri_to_jalali()\")\n",
        "\n",
        "print(\"\\n✅ نام ماه‌ها:\")\n",
        "print(\"  • get_hijri_month_name()\")\n",
        "print(\"  • HIJRI_MONTH_NAMES (dictionary)\")\n",
        "print(\"  • HIJRI_MONTH_NAMES_EN (dictionary)\")\n",
        "\n",
        "print(\"\\n✅ تعطیلات و رویدادها:\")\n",
        "print(\"  • is_iranian_holiday()\")\n",
        "print(\"  • get_all_holidays_for_jalali_date()\")\n",
        "print(\"  • persian_events (166 رویداد)\")\n",
        "print(\"  • persian_events_en (166 رویداد)\")\n",
        "print(\"  • hijri_events (رویدادهای قمری)\")\n",
        "print(\"  • gregorian_events (رویدادهای میلادی)\")\n",
        "\n",
        "print(\"\\n✅ سال کبیسه:\")\n",
        "print(\"  • is_leap_year_persian()\")\n",
        "print(\"  • is_hijri_leap()\")\n",
        "\n",
        "print(\"\\n✅ تولید جدول (نیاز به pandas):\")\n",
        "print(\"  • DateDimensionGenerator\")\n",
        "print(\"  • DateRangeGenerator\")\n",
        "\n",
        "print(\"\\n✅ اطلاعات امروز:\")\n",
        "print(\"  • CurrentDate\")\n",
        "\n",
        "print(\"\\n\"+\"=\"*60)\n",
        "print(\"🔗 لینک‌ها:\")\n",
        "print(\"  PyPI: https://pypi.org/project/multi-calendar-dimension/\")\n",
        "print(\"  GitHub: https://github.com/pouya-kia/multi-calendar-dimension\")\n",
        "print(\"  نویسنده: Pouya Kia (kiaa.pouya@gmail.com)\")\n"
      ]
    }
  ],
  "metadata": {
    "kernelspec": {
      "display_name": ".venv",
      "language": "python",
      "name": "python3"
    },
    "language_info": {
      "codemirror_mode": {
        "name": "ipython",
        "version": 3
      },
      "file_extension": ".py",
      "mimetype": "text/x-python",
      "name": "python",
      "nbconvert_exporter": "python",
      "pygments_lexer": "ipython3",
      "version": "3.13.2"
    }
  },
  "nbformat": 4,
  "nbformat_minor": 2
}
